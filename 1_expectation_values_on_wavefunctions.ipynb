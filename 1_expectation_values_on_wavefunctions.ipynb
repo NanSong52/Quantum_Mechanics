{
 "cells": [
  {
   "cell_type": "markdown",
   "id": "c190d07f",
   "metadata": {},
   "source": [
    "# Question1: Expectation values when measuring the energy on an arbitrary wave function."
   ]
  },
  {
   "cell_type": "markdown",
   "id": "9fda4bd4",
   "metadata": {},
   "source": [
    "## import packages"
   ]
  },
  {
   "cell_type": "code",
   "execution_count": 14,
   "id": "89c6f553",
   "metadata": {},
   "outputs": [],
   "source": [
    "import numpy as np\n",
    "import matplotlib.pyplot as plt"
   ]
  },
  {
   "cell_type": "markdown",
   "id": "32b2549b",
   "metadata": {},
   "source": [
    "## load functions: Consider the unnormalized wave function Ψ(x) = Nx^2 (L − x) , for L=2,"
   ]
  },
  {
   "cell_type": "code",
   "execution_count": 2,
   "id": "9897b66c",
   "metadata": {},
   "outputs": [],
   "source": [
    "def integral(f,a,b,steps):\n",
    "    # f=integral function of x\n",
    "    # a lower limit \n",
    "    # b upper limit  \n",
    "    # steps:(steps-1) trapezoids\n",
    "    L=b-a\n",
    "    interval=L/(steps-1)\n",
    "    cumulator=0\n",
    "    for x in range(steps-1):\n",
    "        f1 = f(x*interval)\n",
    "        f2 = f((x+1)*interval)\n",
    "        cumulator += 0.5 * (f1+f2) * interval\n",
    "    return cumulator\n",
    "\n",
    "def phi(n,x):\n",
    "    return np.sqrt(2/L)*np.sin(n*np.pi*x/L)"
   ]
  },
  {
   "cell_type": "markdown",
   "id": "948c6c51",
   "metadata": {},
   "source": [
    "### (a) Normalize the function Psi(x)"
   ]
  },
  {
   "cell_type": "code",
   "execution_count": 3,
   "id": "05801e2a",
   "metadata": {},
   "outputs": [
    {
     "name": "stdout",
     "output_type": "stream",
     "text": [
      "The normalize factor of Psi(x) is 0.9057110631357514\n"
     ]
    }
   ],
   "source": [
    "m=2 # power              \n",
    "L=2 # length of box. \n",
    "N=1 # normalize factor. ###############These parameters are changable\n",
    "def Psi_sq(x):# This wavefunciton is real, so simply square the Psi\n",
    "    return N*x**m*(L-x)*N*x**m*(L-x)\n",
    " # 3rd, call integral function with upper and lower limit,steps.\n",
    "a = integral(Psi_sq,0,L,100)\n",
    "print('The normalize factor of Psi(x) is '+ str(1/np.sqrt(a)))"
   ]
  },
  {
   "cell_type": "code",
   "execution_count": 4,
   "id": "81bf2eba",
   "metadata": {},
   "outputs": [],
   "source": [
    "N=0.9057110631357514\n",
    "def Psi(x):\n",
    "    return N*x**m*(L-x)"
   ]
  },
  {
   "cell_type": "markdown",
   "id": "ba21ac4c",
   "metadata": {},
   "source": [
    "### (b) Plot the normalized wave function Psi(x)"
   ]
  },
  {
   "cell_type": "code",
   "execution_count": 5,
   "id": "fc2459ca",
   "metadata": {},
   "outputs": [
    {
     "data": {
      "text/plain": [
       "[<matplotlib.lines.Line2D at 0x7fcd20a38940>]"
      ]
     },
     "execution_count": 5,
     "metadata": {},
     "output_type": "execute_result"
    },
    {
     "data": {
      "image/png": "[encoded data removed]",
      "text/plain": [
       "<Figure size 432x288 with 1 Axes>"
      ]
     },
     "metadata": {
      "needs_background": "light"
     },
     "output_type": "display_data"
    }
   ],
   "source": [
    "start_point=0\n",
    "end_point=L\n",
    "step=101\n",
    "interval=(end_point-start_point)/(step-1)\n",
    "Lx=[]\n",
    "Ly=[]\n",
    "for x in range(step):\n",
    "    height=Psi(x*interval+start_point)\n",
    "    Lx.append(float(x*interval+start_point))\n",
    "    Ly.append(float(height))\n",
    "plt.plot(Lx,Ly)       #Q1b作图"
   ]
  },
  {
   "cell_type": "markdown",
   "id": "84fa4ddc",
   "metadata": {},
   "source": [
    "### (c) Calculate the expectation value"
   ]
  },
  {
   "cell_type": "markdown",
   "id": "aee2abd4",
   "metadata": {},
   "source": [
    "#### →Evaluate integral from 0 to L(Psi(x)(-d^2 Psi/dx^2)dx)"
   ]
  },
  {
   "cell_type": "code",
   "execution_count": 6,
   "id": "92d95fd3",
   "metadata": {},
   "outputs": [
    {
     "name": "stdout",
     "output_type": "stream",
     "text": [
      "The expectation value is 3.500167872958998\n"
     ]
    }
   ],
   "source": [
    "# use the integral function: \n",
    "  #firstly, define the parameters \n",
    "N=0.9057339014391647 \n",
    "L=2\n",
    "steps=1000\n",
    "  #secondly，define the function\n",
    "def qc_function(x):\n",
    "    return N*x**m*(L-x)* (6*N*x-2*N*L)\n",
    "expe=integral(qc_function,0,L,steps)\n",
    "print('The expectation value is '+ str(expe) )"
   ]
  },
  {
   "cell_type": "markdown",
   "id": "69e763d5",
   "metadata": {},
   "source": [
    "### (d) For linear combination of eigenstates"
   ]
  },
  {
   "cell_type": "code",
   "execution_count": 7,
   "id": "11186338",
   "metadata": {},
   "outputs": [
    {
     "name": "stdout",
     "output_type": "stream",
     "text": [
      "The list of c_n is \n",
      "[0.9347618555567296, -0.35053567361005294, 0.034620797754156184, -0.04381691470902418, 0.00747807508875609, -0.012982732307289175, 0.0027252254792604247, -0.005477024994678499, 0.0012822164307108872, -0.0028041661398097864, 0.0007022565523983804, -0.0016227066175868478, 0.0004254198993581687, -0.001021801456000683, 0.0002769061554065477, -0.0006844465232454819, 0.00019019422991266603, -0.0004806256832420475, 0.00013620527936787874, -0.0003502909851924648, 0.00010084937154737037, -0.0002630916401213963, 7.673284672200879e-05, -0.00020255843861445035, 5.972092050382104e-05, -0.00015922665678722264, 4.7377724214582974e-05, -0.00012739280304498765, 3.820460008602516e-05, -0.00010348013492200107, 3.124498561562269e-05, -8.51680590031994e-05, 2.586876227316621e-05, -7.090613662013505e-05, 2.1649332213491738e-05, -5.963163177297008e-05, 1.8290872583526718e-05, -5.0599505945813803e-05, 1.5583851550743984e-05, -4.3276902582887306e-05, 1.3377029980059306e-05, -3.7275854404159535e-05, 1.1559381936194222e-05, -3.2309315867451774e-05, 1.0048149565667383e-05, -2.8161805190375492e-05, 8.78078664794937e-06, -2.4669413714452294e-05, 7.709422615852853e-06]\n"
     ]
    }
   ],
   "source": [
    " # find list of c_n\n",
    "def c_n(x):\n",
    "    return phi(n,x)*Psi(x)\n",
    "\n",
    " # determin c_n and store in a list Lc_n\n",
    "Lc_n=[]\n",
    "M=50  ######## how many Cn is used. You can change this parameter later\n",
    "for n in range(M):\n",
    "    Lc_n.append(integral(c_n,0,L,100))\n",
    "print('The list of c_n is \\n'+ str(Lc_n[1:]) )"
   ]
  },
  {
   "cell_type": "code",
   "execution_count": 8,
   "id": "33804081",
   "metadata": {},
   "outputs": [
    {
     "data": {
      "text/plain": [
       "array([8.73779727e-01, 1.22875258e-01, 1.19859964e-03, 1.91992201e-03,\n",
       "       5.59216070e-05, 1.68551338e-04, 7.42685391e-06, 2.99978028e-05,\n",
       "       1.64407898e-06, 7.86334774e-06, 4.93164265e-07, 2.63317677e-06,\n",
       "       1.80982091e-07, 1.04407822e-06, 7.66770189e-08, 4.68467043e-07,\n",
       "       3.61738451e-08, 2.31001047e-07, 1.85518781e-08, 1.22703774e-07,\n",
       "       1.01705957e-08, 6.92172111e-08, 5.88792977e-09, 4.10299211e-08,\n",
       "       3.56658835e-09, 2.53531282e-08, 2.24464875e-09, 1.62289263e-08,\n",
       "       1.45959147e-09, 1.07081383e-08, 9.76249126e-10, 7.25359827e-09,\n",
       "       6.69192862e-10, 5.02768021e-09, 4.68693585e-10, 3.55593151e-09,\n",
       "       3.34556020e-10, 2.56031000e-09, 2.42856429e-10, 1.87289030e-09,\n",
       "       1.78944931e-10, 1.38948932e-09, 1.33619311e-10, 1.04389189e-09,\n",
       "       1.00965310e-10, 7.93087272e-10, 7.71022142e-11, 6.08579973e-10,\n",
       "       5.94351971e-11])"
      ]
     },
     "execution_count": 8,
     "metadata": {},
     "output_type": "execute_result"
    },
    {
     "data": {
      "image/png": "[encoded data removed]",
      "text/plain": [
       "<Figure size 432x288 with 1 Axes>"
      ]
     },
     "metadata": {
      "needs_background": "light"
     },
     "output_type": "display_data"
    }
   ],
   "source": [
    "L_prob=np.zeros(len(Lc_n))\n",
    "L_x=list(range(M))[1:]\n",
    "for i in range(len(Lc_n)):\n",
    "    L_prob[i] = Lc_n[i]*Lc_n[i] # probability is cn^2\n",
    " # plot the list of probability\n",
    "plt.scatter(L_x, L_prob[1:],s=20)\n",
    "L_prob[1:]"
   ]
  },
  {
   "cell_type": "code",
   "execution_count": 9,
   "id": "141afe85",
   "metadata": {},
   "outputs": [
    {
     "data": {
      "text/plain": [
       "<matplotlib.collections.PathCollection at 0x7fcd000526a0>"
      ]
     },
     "execution_count": 9,
     "metadata": {},
     "output_type": "execute_result"
    },
    {
     "data": {
      "image/png": "[encoded data removed]",
      "text/plain": [
       "<Figure size 432x288 with 1 Axes>"
      ]
     },
     "metadata": {
      "needs_background": "light"
     },
     "output_type": "display_data"
    }
   ],
   "source": [
    "plt.scatter(L_x, Lc_n[1:],s=20)"
   ]
  },
  {
   "cell_type": "markdown",
   "id": "ac86fca7",
   "metadata": {},
   "source": [
    "### (e) Plots"
   ]
  },
  {
   "cell_type": "code",
   "execution_count": 10,
   "id": "4580f845",
   "metadata": {},
   "outputs": [
    {
     "data": {
      "text/plain": [
       "<matplotlib.legend.Legend at 0x7fccf8b05730>"
      ]
     },
     "execution_count": 10,
     "metadata": {},
     "output_type": "execute_result"
    },
    {
     "data": {
      "image/png": "[encoded data removed]",
      "text/plain": [
       "<Figure size 432x288 with 1 Axes>"
      ]
     },
     "metadata": {
      "needs_background": "light"
     },
     "output_type": "display_data"
    }
   ],
   "source": [
    "# plot linear combinations of c_n ( You can see it has similar shape with Psi(x) )\n",
    "A=np.zeros([M,step])\n",
    "for n in range(M):\n",
    "    for x in range(step):\n",
    "        A[n][x] = phi(n,x*interval)\n",
    "lin_comb=np.dot(Lc_n,A) \n",
    "plt.figure()\n",
    "plt.scatter(Lx,lin_comb,label='linear combination',marker = 'x',color='r',s=20)\n",
    "plt.plot(Lx,Ly,label='original')\n",
    "plt.plot(Lx,Ly-lin_comb,label='difference')\n",
    "plt.legend()"
   ]
  },
  {
   "cell_type": "code",
   "execution_count": 15,
   "id": "4477cd35",
   "metadata": {},
   "outputs": [],
   "source": [
    "##对f(x)作图\n",
    "def plotf(f,a,b,steps):\n",
    "    startpoint=a\n",
    "    endpoint=b\n",
    "    seg=b-a\n",
    "    interval=seg/steps\n",
    "    Lx=[]\n",
    "    Ly=[]\n",
    "    for x in range(steps):\n",
    "        height=f(x*interval+startpoint)\n",
    "        Lx.append(x*interval+startpoint)\n",
    "        Ly.append(height)\n",
    "    plt.plot(Lx,Ly,label=str(f))"
   ]
  },
  {
   "cell_type": "code",
   "execution_count": 16,
   "id": "3e193c1d",
   "metadata": {},
   "outputs": [
    {
     "data": {
      "text/plain": [
       "<matplotlib.legend.Legend at 0x7fcd11fb83a0>"
      ]
     },
     "execution_count": 16,
     "metadata": {},
     "output_type": "execute_result"
    },
    {
     "data": {
      "image/png": "[encoded data removed]",
      "text/plain": [
       "<Figure size 576x1080 with 1 Axes>"
      ]
     },
     "metadata": {
      "needs_background": "light"
     },
     "output_type": "display_data"
    }
   ],
   "source": [
    "# outside the box\n",
    "B=np.zeros([M,2*step])\n",
    "for n in range(M):\n",
    "    for x in range(2*step):\n",
    "        B[n][x] = phi(n,x*interval-0.5*L)\n",
    "lin_comb=np.dot(Lc_n,B) \n",
    "x_variable=[]\n",
    "y_variable=[]\n",
    "for i in range (2*step):\n",
    "    x_variable.append(i*interval-0.5*L)\n",
    "    y_variable.append(Psi(x*interval-0.5*L))\n",
    "plt.figure(figsize=(8,15))\n",
    "plt.plot(x_variable,lin_comb,label=\"lin_comb\")\n",
    "plotf(Psi,-0.5*L,1.5*L,200)\n",
    "plt.legend()"
   ]
  },
  {
   "cell_type": "markdown",
   "id": "37323b11",
   "metadata": {},
   "source": [
    "### (f) The average value of the kinetic energy (sum over PnEn)"
   ]
  },
  {
   "cell_type": "code",
   "execution_count": 13,
   "id": "0a19a233",
   "metadata": {},
   "outputs": [
    {
     "name": "stdout",
     "output_type": "stream",
     "text": [
      "The average value of the kinetic energy is 3.500141616342402, when M=50\n",
      "The exact kinetic energy is 3.500167872958998\n",
      "The difference is 3e-05, the relative error is 0.00075%\n"
     ]
    }
   ],
   "source": [
    "E_n=np.zeros(M)\n",
    "for i in range(M):\n",
    "    E_n[i] = i*i*(np.pi**2)/(L*L)\n",
    "ke = np.dot(E_n,L_prob)\n",
    "a=expe-ke\n",
    "print('The average value of the kinetic energy is '+ str(ke)+\", when M=\"+str(M) +\n",
    "      \"\\nThe exact kinetic energy is \" + str(expe) +\n",
    "     '\\nThe difference is '+ str(round(a,5))+ ', the relative error is '+ str(round(a/expe*100,5))+'%')\n"
   ]
  },
  {
   "cell_type": "code",
   "execution_count": null,
   "id": "b9385a1f",
   "metadata": {},
   "outputs": [],
   "source": []
  }
 ],
 "metadata": {
  "celltoolbar": "原始单元格格式",
  "kernelspec": {
   "display_name": "Python 3 (ipykernel)",
   "language": "python",
   "name": "python3"
  },
  "language_info": {
   "codemirror_mode": {
    "name": "ipython",
    "version": 3
   },
   "file_extension": ".py",
   "mimetype": "text/x-python",
   "name": "python",
   "nbconvert_exporter": "python",
   "pygments_lexer": "ipython3",
   "version": "3.9.12"
  }
 },
 "nbformat": 4,
 "nbformat_minor": 5
}
